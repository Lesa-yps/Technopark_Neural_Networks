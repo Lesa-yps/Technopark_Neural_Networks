{
  "cells": [
    {
      "cell_type": "markdown",
      "id": "YfPhAJr3jOkh",
      "metadata": {
        "id": "YfPhAJr3jOkh"
      },
      "source": [
        "# HW 1"
      ]
    },
    {
      "cell_type": "code",
      "execution_count": 8,
      "id": "18486a44",
      "metadata": {},
      "outputs": [
        {
          "name": "stdout",
          "output_type": "stream",
          "text": [
            "Requirement already satisfied: pandas in c:\\users\\user\\appdata\\local\\packages\\pythonsoftwarefoundation.python.3.9_qbz5n2kfra8p0\\localcache\\local-packages\\python39\\site-packages (2.3.2)\n",
            "Requirement already satisfied: numpy>=1.22.4 in c:\\users\\user\\appdata\\local\\packages\\pythonsoftwarefoundation.python.3.9_qbz5n2kfra8p0\\localcache\\local-packages\\python39\\site-packages (from pandas) (1.26.4)\n",
            "Requirement already satisfied: python-dateutil>=2.8.2 in c:\\users\\user\\appdata\\local\\packages\\pythonsoftwarefoundation.python.3.9_qbz5n2kfra8p0\\localcache\\local-packages\\python39\\site-packages (from pandas) (2.9.0.post0)\n",
            "Requirement already satisfied: pytz>=2020.1 in c:\\users\\user\\appdata\\local\\packages\\pythonsoftwarefoundation.python.3.9_qbz5n2kfra8p0\\localcache\\local-packages\\python39\\site-packages (from pandas) (2025.2)\n",
            "Requirement already satisfied: tzdata>=2022.7 in c:\\users\\user\\appdata\\local\\packages\\pythonsoftwarefoundation.python.3.9_qbz5n2kfra8p0\\localcache\\local-packages\\python39\\site-packages (from pandas) (2025.2)\n",
            "Requirement already satisfied: six>=1.5 in c:\\users\\user\\appdata\\local\\packages\\pythonsoftwarefoundation.python.3.9_qbz5n2kfra8p0\\localcache\\local-packages\\python39\\site-packages (from python-dateutil>=2.8.2->pandas) (1.17.0)\n"
          ]
        },
        {
          "name": "stderr",
          "output_type": "stream",
          "text": [
            "WARNING: You are using pip version 22.0.4; however, version 25.2 is available.\n",
            "You should consider upgrading via the 'C:\\Users\\USER\\AppData\\Local\\Microsoft\\WindowsApps\\PythonSoftwareFoundation.Python.3.9_qbz5n2kfra8p0\\python.exe -m pip install --upgrade pip' command.\n"
          ]
        }
      ],
      "source": [
        "!python3.9 -m pip install pandas"
      ]
    },
    {
      "cell_type": "code",
      "execution_count": 7,
      "id": "827c1ce1",
      "metadata": {},
      "outputs": [
        {
          "name": "stdout",
          "output_type": "stream",
          "text": [
            "^C\n"
          ]
        },
        {
          "name": "stdout",
          "output_type": "stream",
          "text": [
            "Requirement already satisfied: matplotlib in c:\\users\\user\\appdata\\local\\packages\\pythonsoftwarefoundation.python.3.9_qbz5n2kfra8p0\\localcache\\local-packages\\python39\\site-packages (3.9.4)\n",
            "Requirement already satisfied: cycler>=0.10 in c:\\users\\user\\appdata\\local\\packages\\pythonsoftwarefoundation.python.3.9_qbz5n2kfra8p0\\localcache\\local-packages\\python39\\site-packages (from matplotlib) (0.12.1)\n",
            "Requirement already satisfied: packaging>=20.0 in c:\\users\\user\\appdata\\local\\packages\\pythonsoftwarefoundation.python.3.9_qbz5n2kfra8p0\\localcache\\local-packages\\python39\\site-packages (from matplotlib) (25.0)\n",
            "Requirement already satisfied: python-dateutil>=2.7 in c:\\users\\user\\appdata\\local\\packages\\pythonsoftwarefoundation.python.3.9_qbz5n2kfra8p0\\localcache\\local-packages\\python39\\site-packages (from matplotlib) (2.9.0.post0)\n",
            "Requirement already satisfied: pillow>=8 in c:\\users\\user\\appdata\\local\\packages\\pythonsoftwarefoundation.python.3.9_qbz5n2kfra8p0\\localcache\\local-packages\\python39\\site-packages (from matplotlib) (11.3.0)\n",
            "Requirement already satisfied: kiwisolver>=1.3.1 in c:\\users\\user\\appdata\\local\\packages\\pythonsoftwarefoundation.python.3.9_qbz5n2kfra8p0\\localcache\\local-packages\\python39\\site-packages (from matplotlib) (1.4.7)\n",
            "Requirement already satisfied: numpy>=1.23 in c:\\users\\user\\appdata\\local\\packages\\pythonsoftwarefoundation.python.3.9_qbz5n2kfra8p0\\localcache\\local-packages\\python39\\site-packages (from matplotlib) (1.26.4)\n",
            "Requirement already satisfied: importlib-resources>=3.2.0 in c:\\users\\user\\appdata\\local\\packages\\pythonsoftwarefoundation.python.3.9_qbz5n2kfra8p0\\localcache\\local-packages\\python39\\site-packages (from matplotlib) (6.5.2)\n",
            "Requirement already satisfied: fonttools>=4.22.0 in c:\\users\\user\\appdata\\local\\packages\\pythonsoftwarefoundation.python.3.9_qbz5n2kfra8p0\\localcache\\local-packages\\python39\\site-packages (from matplotlib) (4.59.2)\n",
            "Requirement already satisfied: pyparsing>=2.3.1 in c:\\users\\user\\appdata\\local\\packages\\pythonsoftwarefoundation.python.3.9_qbz5n2kfra8p0\\localcache\\local-packages\\python39\\site-packages (from matplotlib) (3.2.3)\n",
            "Requirement already satisfied: contourpy>=1.0.1 in c:\\users\\user\\appdata\\local\\packages\\pythonsoftwarefoundation.python.3.9_qbz5n2kfra8p0\\localcache\\local-packages\\python39\\site-packages (from matplotlib) (1.3.0)\n",
            "Requirement already satisfied: zipp>=3.1.0 in c:\\users\\user\\appdata\\local\\packages\\pythonsoftwarefoundation.python.3.9_qbz5n2kfra8p0\\localcache\\local-packages\\python39\\site-packages (from importlib-resources>=3.2.0->matplotlib) (3.21.0)\n",
            "Requirement already satisfied: six>=1.5 in c:\\users\\user\\appdata\\local\\packages\\pythonsoftwarefoundation.python.3.9_qbz5n2kfra8p0\\localcache\\local-packages\\python39\\site-packages (from python-dateutil>=2.7->matplotlib) (1.17.0)\n"
          ]
        },
        {
          "name": "stderr",
          "output_type": "stream",
          "text": [
            "WARNING: You are using pip version 22.0.4; however, version 25.2 is available.\n",
            "You should consider upgrading via the 'C:\\Users\\USER\\AppData\\Local\\Microsoft\\WindowsApps\\PythonSoftwareFoundation.Python.3.9_qbz5n2kfra8p0\\python.exe -m pip install --upgrade pip' command.\n"
          ]
        }
      ],
      "source": [
        "!python3.9 -m pip install matplotlib"
      ]
    },
    {
      "cell_type": "code",
      "execution_count": null,
      "id": "4c70b6d1",
      "metadata": {},
      "outputs": [
        {
          "name": "stdout",
          "output_type": "stream",
          "text": [
            "Collecting scikit-learn\n",
            "  Downloading scikit_learn-1.6.1-cp39-cp39-win_amd64.whl (11.2 MB)\n",
            "     ---------------------------------------- 11.2/11.2 MB 8.4 MB/s eta 0:00:00\n",
            "Collecting threadpoolctl>=3.1.0\n",
            "  Downloading threadpoolctl-3.6.0-py3-none-any.whl (18 kB)\n",
            "Collecting scipy>=1.6.0\n",
            "  Downloading scipy-1.13.1-cp39-cp39-win_amd64.whl (46.2 MB)\n",
            "     ---------------------------------------- 46.2/46.2 MB 5.9 MB/s eta 0:00:00\n",
            "Requirement already satisfied: joblib>=1.2.0 in c:\\users\\user\\appdata\\local\\packages\\pythonsoftwarefoundation.python.3.9_qbz5n2kfra8p0\\localcache\\local-packages\\python39\\site-packages (from scikit-learn) (1.5.0)\n",
            "Requirement already satisfied: numpy>=1.19.5 in c:\\users\\user\\appdata\\local\\packages\\pythonsoftwarefoundation.python.3.9_qbz5n2kfra8p0\\localcache\\local-packages\\python39\\site-packages (from scikit-learn) (1.26.4)\n",
            "Installing collected packages: threadpoolctl, scipy, scikit-learn\n",
            "Successfully installed scikit-learn-1.6.1 scipy-1.13.1 threadpoolctl-3.6.0\n"
          ]
        },
        {
          "name": "stderr",
          "output_type": "stream",
          "text": [
            "WARNING: You are using pip version 22.0.4; however, version 25.2 is available.\n",
            "You should consider upgrading via the 'C:\\Users\\USER\\AppData\\Local\\Microsoft\\WindowsApps\\PythonSoftwareFoundation.Python.3.9_qbz5n2kfra8p0\\python.exe -m pip install --upgrade pip' command.\n"
          ]
        }
      ],
      "source": [
        "!python3.9 -m pip install scikit-learn"
      ]
    },
    {
      "cell_type": "code",
      "execution_count": 5,
      "id": "8cc148dc-d83d-4c32-bbb0-3ffd82ba4e98",
      "metadata": {
        "id": "8cc148dc-d83d-4c32-bbb0-3ffd82ba4e98"
      },
      "outputs": [],
      "source": [
        "import numpy as np\n",
        "import pandas as pd\n",
        "import matplotlib.pyplot as plt\n",
        "\n",
        "from sklearn.linear_model import LinearRegression\n",
        "from sklearn.model_selection import train_test_split\n",
        "from sklearn.metrics import r2_score\n",
        "from sklearn.preprocessing import MinMaxScaler\n",
        "\n",
        "%matplotlib inline"
      ]
    },
    {
      "cell_type": "markdown",
      "id": "e3a06e1e-3bc0-4667-84f3-7e86698c3737",
      "metadata": {
        "id": "e3a06e1e-3bc0-4667-84f3-7e86698c3737"
      },
      "source": [
        "# Загружаем выборку Diamonds"
      ]
    },
    {
      "cell_type": "markdown",
      "id": "sI-cvLDCjsua",
      "metadata": {
        "id": "sI-cvLDCjsua"
      },
      "source": [
        "На данной выборке можно проверять работоспособность своего решения"
      ]
    },
    {
      "cell_type": "markdown",
      "id": "c731a143-3dc9-43e7-96f5-b1eff9093345",
      "metadata": {
        "id": "c731a143-3dc9-43e7-96f5-b1eff9093345"
      },
      "source": [
        "1. PRICE: цена в долларах США (от 326 до 18,823)\n",
        "2. CARAT: вес алмаза в каратах (от 0.2 до 5.01)\n",
        "3. CUT: качество огранки (Fair - Удовл., Good - Хор., Very Good - Очень хор., Premium - Премиум, Ideal - Идеальная)\n",
        "4. COLOR: цвет алмаза, от J (худший) до D (лучший)\n",
        "5. CLARITY: показатель чистоты алмаза (I1 (худшая), SI2, SI1, VS2, VS1, VVS2, VVS1, IF (лучшая))\n",
        "6. X: длина в мм (от 0 до 10.74)\n",
        "7. Y: ширина в мм (от 0 до 58.9)\n",
        "8. Z: глубина (высота) в мм (от 0 до 31.8)\n",
        "9. DEPTH: общий процент глубины = z / среднее(x, y) = 2 * z / (x + y) (от 43% до 79%)\n",
        "10. TABLE: ширина верхней площадки алмаза относительно самой широкой точки (от 43% до 95%)"
      ]
    },
    {
      "cell_type": "code",
      "execution_count": 6,
      "id": "0f24cf86-653a-422b-9df1-8029fdccf153",
      "metadata": {
        "id": "0f24cf86-653a-422b-9df1-8029fdccf153"
      },
      "outputs": [],
      "source": [
        "diamonds_df = pd.read_csv('diamonds.csv')"
      ]
    },
    {
      "cell_type": "code",
      "execution_count": 7,
      "id": "70d9ccfe-e1cf-4c90-a5ab-40ae0852f1ce",
      "metadata": {
        "colab": {
          "base_uri": "https://localhost:8080/",
          "height": 204
        },
        "id": "70d9ccfe-e1cf-4c90-a5ab-40ae0852f1ce",
        "outputId": "48caecef-fcb9-440b-dd8b-3e4189ff9708"
      },
      "outputs": [
        {
          "data": {
            "text/html": [
              "<div>\n",
              "<style scoped>\n",
              "    .dataframe tbody tr th:only-of-type {\n",
              "        vertical-align: middle;\n",
              "    }\n",
              "\n",
              "    .dataframe tbody tr th {\n",
              "        vertical-align: top;\n",
              "    }\n",
              "\n",
              "    .dataframe thead th {\n",
              "        text-align: right;\n",
              "    }\n",
              "</style>\n",
              "<table border=\"1\" class=\"dataframe\">\n",
              "  <thead>\n",
              "    <tr style=\"text-align: right;\">\n",
              "      <th></th>\n",
              "      <th>Unnamed: 0</th>\n",
              "      <th>carat</th>\n",
              "      <th>cut</th>\n",
              "      <th>color</th>\n",
              "      <th>clarity</th>\n",
              "      <th>depth</th>\n",
              "      <th>table</th>\n",
              "      <th>price</th>\n",
              "      <th>x</th>\n",
              "      <th>y</th>\n",
              "      <th>z</th>\n",
              "    </tr>\n",
              "  </thead>\n",
              "  <tbody>\n",
              "    <tr>\n",
              "      <th>0</th>\n",
              "      <td>1</td>\n",
              "      <td>0.23</td>\n",
              "      <td>Ideal</td>\n",
              "      <td>E</td>\n",
              "      <td>SI2</td>\n",
              "      <td>61.5</td>\n",
              "      <td>55.0</td>\n",
              "      <td>326</td>\n",
              "      <td>3.95</td>\n",
              "      <td>3.98</td>\n",
              "      <td>2.43</td>\n",
              "    </tr>\n",
              "    <tr>\n",
              "      <th>1</th>\n",
              "      <td>2</td>\n",
              "      <td>0.21</td>\n",
              "      <td>Premium</td>\n",
              "      <td>E</td>\n",
              "      <td>SI1</td>\n",
              "      <td>59.8</td>\n",
              "      <td>61.0</td>\n",
              "      <td>326</td>\n",
              "      <td>3.89</td>\n",
              "      <td>3.84</td>\n",
              "      <td>2.31</td>\n",
              "    </tr>\n",
              "    <tr>\n",
              "      <th>2</th>\n",
              "      <td>3</td>\n",
              "      <td>0.23</td>\n",
              "      <td>Good</td>\n",
              "      <td>E</td>\n",
              "      <td>VS1</td>\n",
              "      <td>56.9</td>\n",
              "      <td>65.0</td>\n",
              "      <td>327</td>\n",
              "      <td>4.05</td>\n",
              "      <td>4.07</td>\n",
              "      <td>2.31</td>\n",
              "    </tr>\n",
              "    <tr>\n",
              "      <th>3</th>\n",
              "      <td>4</td>\n",
              "      <td>0.29</td>\n",
              "      <td>Premium</td>\n",
              "      <td>I</td>\n",
              "      <td>VS2</td>\n",
              "      <td>62.4</td>\n",
              "      <td>58.0</td>\n",
              "      <td>334</td>\n",
              "      <td>4.20</td>\n",
              "      <td>4.23</td>\n",
              "      <td>2.63</td>\n",
              "    </tr>\n",
              "    <tr>\n",
              "      <th>4</th>\n",
              "      <td>5</td>\n",
              "      <td>0.31</td>\n",
              "      <td>Good</td>\n",
              "      <td>J</td>\n",
              "      <td>SI2</td>\n",
              "      <td>63.3</td>\n",
              "      <td>58.0</td>\n",
              "      <td>335</td>\n",
              "      <td>4.34</td>\n",
              "      <td>4.35</td>\n",
              "      <td>2.75</td>\n",
              "    </tr>\n",
              "  </tbody>\n",
              "</table>\n",
              "</div>"
            ],
            "text/plain": [
              "   Unnamed: 0  carat      cut color clarity  depth  table  price     x     y  \\\n",
              "0           1   0.23    Ideal     E     SI2   61.5   55.0    326  3.95  3.98   \n",
              "1           2   0.21  Premium     E     SI1   59.8   61.0    326  3.89  3.84   \n",
              "2           3   0.23     Good     E     VS1   56.9   65.0    327  4.05  4.07   \n",
              "3           4   0.29  Premium     I     VS2   62.4   58.0    334  4.20  4.23   \n",
              "4           5   0.31     Good     J     SI2   63.3   58.0    335  4.34  4.35   \n",
              "\n",
              "      z  \n",
              "0  2.43  \n",
              "1  2.31  \n",
              "2  2.31  \n",
              "3  2.63  \n",
              "4  2.75  "
            ]
          },
          "execution_count": 7,
          "metadata": {},
          "output_type": "execute_result"
        }
      ],
      "source": [
        "diamonds_df.head()"
      ]
    },
    {
      "cell_type": "code",
      "execution_count": 8,
      "id": "fad21c95-f542-44ec-8f06-8f57fd42ddef",
      "metadata": {
        "colab": {
          "base_uri": "https://localhost:8080/",
          "height": 430
        },
        "id": "fad21c95-f542-44ec-8f06-8f57fd42ddef",
        "outputId": "cda66a09-590c-45b0-9ed1-1699bfddaaf9"
      },
      "outputs": [
        {
          "data": {
            "image/png": "[encoded data removed]",
            "text/plain": [
              "<Figure size 640x480 with 1 Axes>"
            ]
          },
          "metadata": {},
          "output_type": "display_data"
        }
      ],
      "source": [
        "plt.hist(diamonds_df['price'], bins=100)\n",
        "plt.grid();"
      ]
    },
    {
      "cell_type": "markdown",
      "id": "17ac44bb-86c7-424a-8b9b-0a21bf490683",
      "metadata": {
        "id": "17ac44bb-86c7-424a-8b9b-0a21bf490683"
      },
      "source": [
        "# Подготовка данных"
      ]
    },
    {
      "cell_type": "code",
      "execution_count": 9,
      "id": "e19945ea-cecf-481e-a28b-3f9c11001918",
      "metadata": {
        "id": "e19945ea-cecf-481e-a28b-3f9c11001918"
      },
      "outputs": [],
      "source": [
        "features = ['carat', 'cut', 'color', 'clarity', 'depth', 'table', 'x', 'y', 'z']\n",
        "target = ['price']"
      ]
    },
    {
      "cell_type": "code",
      "execution_count": 10,
      "id": "fbc43eb0-e77f-4765-8b0e-b9052c093855",
      "metadata": {
        "id": "fbc43eb0-e77f-4765-8b0e-b9052c093855"
      },
      "outputs": [],
      "source": [
        "cut_transform = {'Fair': 0, 'Good': 1, 'Very Good': 2, 'Premium': 3, 'Ideal': 4}\n",
        "clarity_transform = {'I1': 0, 'SI2': 1, 'SI1': 2, 'VS2': 3, 'VS1': 4, 'VVS2': 5, 'VVS1': 6, 'IF': 7}\n",
        "color_transorm = {'D': 0, 'E': 1, 'F': 2, 'G': 3, 'H': 4, 'I': 5, 'J': 6}"
      ]
    },
    {
      "cell_type": "code",
      "execution_count": 11,
      "id": "6f82b34f-9ffc-478f-a103-b2cbbca49a94",
      "metadata": {
        "id": "6f82b34f-9ffc-478f-a103-b2cbbca49a94"
      },
      "outputs": [],
      "source": [
        "diamonds_df['cut'] = diamonds_df['cut'].apply(lambda x: cut_transform.get(x))\n",
        "diamonds_df['color'] = diamonds_df['color'].apply(lambda x: color_transorm.get(x))\n",
        "diamonds_df['clarity'] = diamonds_df['clarity'].apply(lambda x: clarity_transform.get(x))"
      ]
    },
    {
      "cell_type": "code",
      "execution_count": 36,
      "id": "8e5fa82b-92ed-4e79-adf2-422204b45e82",
      "metadata": {
        "id": "8e5fa82b-92ed-4e79-adf2-422204b45e82"
      },
      "outputs": [],
      "source": [
        "X = diamonds_df[features].copy().values\n",
        "y = diamonds_df[target].values"
      ]
    },
    {
      "cell_type": "code",
      "execution_count": 37,
      "id": "64c11d68-dc5c-4753-9cc4-3cc4e136f3cb",
      "metadata": {
        "id": "64c11d68-dc5c-4753-9cc4-3cc4e136f3cb"
      },
      "outputs": [],
      "source": [
        "X_train, X_test, y_train, y_test = train_test_split(X, y, random_state=47, test_size=0.3)"
      ]
    },
    {
      "cell_type": "code",
      "execution_count": 39,
      "id": "rGU9tSuwk3Lp",
      "metadata": {
        "id": "rGU9tSuwk3Lp"
      },
      "outputs": [],
      "source": [
        "scaler = MinMaxScaler()\n",
        "X_train = scaler.fit_transform(X_train)\n",
        "X_test = scaler.transform(X_test)"
      ]
    },
    {
      "cell_type": "markdown",
      "id": "3b743ed1-d0cf-485d-b8f2-8c71fc174e8b",
      "metadata": {
        "id": "3b743ed1-d0cf-485d-b8f2-8c71fc174e8b"
      },
      "source": [
        "# Обучаем модель линейной регрессии"
      ]
    },
    {
      "cell_type": "code",
      "execution_count": null,
      "id": "3N2iJEIuxW0H",
      "metadata": {
        "id": "3N2iJEIuxW0H"
      },
      "outputs": [],
      "source": [
        "reg = LinearRegression().fit(X_train, y_train)"
      ]
    },
    {
      "cell_type": "code",
      "execution_count": null,
      "id": "f968e336-4049-41b2-81d1-4c24f0969bbb",
      "metadata": {
        "id": "f968e336-4049-41b2-81d1-4c24f0969bbb"
      },
      "outputs": [],
      "source": [
        "y_pred = reg.predict(X_test)"
      ]
    },
    {
      "cell_type": "code",
      "execution_count": null,
      "id": "0952990a-b3d6-4da4-9cc6-1ab3a7a25ac7",
      "metadata": {
        "id": "0952990a-b3d6-4da4-9cc6-1ab3a7a25ac7"
      },
      "outputs": [],
      "source": [
        "score = r2_score(y_pred, y_test)"
      ]
    },
    {
      "cell_type": "code",
      "execution_count": null,
      "id": "f89c3bbd-0a3a-48ac-b1ab-b75dc0c5bcce",
      "metadata": {
        "colab": {
          "base_uri": "https://localhost:8080/",
          "height": 452
        },
        "id": "f89c3bbd-0a3a-48ac-b1ab-b75dc0c5bcce",
        "outputId": "587de3bd-b38b-4de9-d156-ac034b9dc075"
      },
      "outputs": [
        {
          "data": {
            "image/png": "[encoded data removed]",
            "text/plain": [
              "<Figure size 640x480 with 1 Axes>"
            ]
          },
          "metadata": {},
          "output_type": "display_data"
        }
      ],
      "source": [
        "plt.title(f'R2: {str(score)[:5]}')\n",
        "plt.hist(y_pred.reshape(1, -1)[0], bins=100, label='PREDICTION')\n",
        "plt.hist(y_test.reshape(1, -1)[0], bins=100, label='GT')\n",
        "plt.legend()\n",
        "plt.grid();"
      ]
    },
    {
      "cell_type": "markdown",
      "id": "6nKJT7VRlIeU",
      "metadata": {
        "id": "6nKJT7VRlIeU"
      },
      "source": [
        "# Задание 1: Реализация Gradient Descent для модели линейной регрессии"
      ]
    },
    {
      "cell_type": "markdown",
      "id": "7UpV6l4clfwC",
      "metadata": {
        "id": "7UpV6l4clfwC"
      },
      "source": [
        "Ниже представлен шаблон кода, который необходимо дополнить, реализовав все указанные методы, и самостоятельно протестировать корректность решения. Можно (и даже нужно) добавлять свои методы для бОльшей читабельности кода\n",
        "\n",
        "Достаточно будет, чтобы код работал для случая, когда X и y - np.ndarray\n",
        "\n",
        "Внутри класса запрещается использовать сторонние библиотеки, кроме numpy"
      ]
    },
    {
      "cell_type": "code",
      "execution_count": null,
      "id": "ohUWWybdlHYw",
      "metadata": {
        "id": "ohUWWybdlHYw"
      },
      "outputs": [],
      "source": [
        "class LinearRegressorGD:\n",
        "    \"\"\"\n",
        "    Линейная регрессия с использованием Gradient Descent\n",
        "    \"\"\"\n",
        "\n",
        "    def __init__(self, learning_rate=0.01, n_iter=1000):\n",
        "        \"\"\"\n",
        "        Конструктор класса\n",
        "\n",
        "        Параметры:\n",
        "            learning_rate (float): Скорость обучения\n",
        "            n_iter (int): Количество итераций градиентного спуска\n",
        "        \"\"\"\n",
        "        self.learning_rate = learning_rate\n",
        "        self.n_iter = n_iter\n",
        "        self.EPS = 0.000005\n",
        "        self.weight = None\n",
        "        self.bias = None\n",
        "\n",
        "    def fit_long(self, X, y):\n",
        "        \"\"\"\n",
        "        Обучение модели на обучающей выборке с использованием\n",
        "        градиентного спуска\n",
        "\n",
        "        Параметры:\n",
        "            X (np.ndarray): Матрица признаков размера (n_samples, n_features)\n",
        "            y (np.ndarray): Вектор таргета длины n_samples\n",
        "        \"\"\"\n",
        "        n_samples, n_features = X.shape\n",
        "        self.weight = np.zeros(n_features)\n",
        "        self.bias = 0\n",
        "            \n",
        "        for _ in range(self.n_iter):\n",
        "            dQ_w_sum, dQ_bias_sum = np.zeros(n_features), 0\n",
        "            for i in range(n_samples):\n",
        "                y_pred_i = np.dot(X[i], self.weight) + self.bias\n",
        "                dQ_w_sum += (y_pred_i - y[i]) * X[i]\n",
        "                dQ_bias_sum += (y_pred_i - y[i])\n",
        "            dQ_w = dQ_w_sum * 2/n_samples\n",
        "            dQ_bias = dQ_bias_sum * 2/n_samples\n",
        "\n",
        "            gradient_norm = np.linalg.norm(dQ_w) + abs(dQ_bias)\n",
        "            if gradient_norm < self.EPS:\n",
        "                break\n",
        "            self.weight -= self.learning_rate * dQ_w\n",
        "            self.bias -= self.learning_rate * dQ_bias\n",
        "            \n",
        "    def fit(self, X, y):\n",
        "        \"\"\"\n",
        "        Обучение модели на обучающей выборке с использованием\n",
        "        градиентного спуска\n",
        "\n",
        "        Параметры:\n",
        "            X (np.ndarray): Матрица признаков размера (n_samples, n_features)\n",
        "            y (np.ndarray): Вектор таргета длины n_samples\n",
        "        \"\"\"\n",
        "        n_samples, n_features = X.shape\n",
        "        self.weight = np.zeros(n_features)\n",
        "        self.bias = 0\n",
        "            \n",
        "        for _ in range(self.n_iter):\n",
        "            y_pred = np.dot(X, self.weight) + self.bias\n",
        "            error = y_pred - y.flatten()\n",
        "            \n",
        "            dQ_w = np.dot(X.T, error) * 2/n_samples\n",
        "            dQ_bias = np.sum(error) * 2/n_samples\n",
        "\n",
        "            gradient_norm = np.linalg.norm(dQ_w) + abs(dQ_bias)\n",
        "            if gradient_norm < self.EPS:\n",
        "                break\n",
        "\n",
        "            self.weight -= self.learning_rate * dQ_w\n",
        "            self.bias -= self.learning_rate * dQ_bias\n",
        "        \n",
        "    def predict(self, X):\n",
        "        \"\"\"\n",
        "        Получение предсказаний обученной модели\n",
        "\n",
        "        Параметры:\n",
        "            X (np.ndarray): Матрица признаков\n",
        "\n",
        "        Возвращает:\n",
        "            np.ndarray: Предсказание для каждого элемента из X\n",
        "        \"\"\"\n",
        "        return np.dot(X, self.weight) + self.bias\n",
        "\n",
        "    def get_params(self):\n",
        "        \"\"\"\n",
        "        Возвращает обученные параметры модели\n",
        "        \"\"\"\n",
        "        return self.weight, self.bias\n"
      ]
    },
    {
      "cell_type": "code",
      "execution_count": null,
      "id": "dc82e0eb",
      "metadata": {},
      "outputs": [],
      "source": [
        "reg = LinearRegressorGD(learning_rate=0.005, n_iter=50000)\n",
        "reg.fit(X_train, y_train)"
      ]
    },
    {
      "cell_type": "code",
      "execution_count": null,
      "id": "634eadc3",
      "metadata": {},
      "outputs": [],
      "source": [
        "y_pred = reg.predict(X_test)"
      ]
    },
    {
      "cell_type": "code",
      "execution_count": null,
      "id": "75c72e12",
      "metadata": {},
      "outputs": [],
      "source": [
        "score = r2_score(y_test, y_pred)"
      ]
    },
    {
      "cell_type": "code",
      "execution_count": null,
      "id": "4306cb12",
      "metadata": {},
      "outputs": [
        {
          "data": {
            "image/png": "[encoded data removed]",
            "text/plain": [
              "<Figure size 640x480 with 1 Axes>"
            ]
          },
          "metadata": {},
          "output_type": "display_data"
        }
      ],
      "source": [
        "plt.title(f'R2: {str(score)[:5]}')\n",
        "plt.hist(y_pred.reshape(1, -1)[0], bins=100, label='PREDICTION')\n",
        "plt.hist(y_test.reshape(1, -1)[0], bins=100, label='GT')\n",
        "plt.legend()\n",
        "plt.grid();"
      ]
    },
    {
      "cell_type": "markdown",
      "id": "ebkQuLxTpTmF",
      "metadata": {
        "id": "ebkQuLxTpTmF"
      },
      "source": [
        "# Задание 2: Реализация backpropagation для MLP"
      ]
    },
    {
      "cell_type": "markdown",
      "id": "2G7W8JLzpZRf",
      "metadata": {
        "id": "2G7W8JLzpZRf"
      },
      "source": [
        "Ниже представлен шаблон кода, который необходимо дополнить, реализовав все указанные методы, и самостоятельно протестировать корректность решения. Можно (и даже нужно) добавлять свои методы для бОльшей читабельности кода\n",
        "\n",
        "Достаточно будет, чтобы код работал для случая, когда X и y - np.ndarray\n",
        "\n",
        "В качестве функции активации нужно использовать sigmoid\n",
        "\n",
        "Внутри класса запрещается использовать сторонние библиотеки, кроме numpy"
      ]
    },
    {
      "cell_type": "code",
      "execution_count": 2,
      "id": "54e256fc",
      "metadata": {},
      "outputs": [],
      "source": [
        "import numpy as np"
      ]
    },
    {
      "cell_type": "code",
      "execution_count": null,
      "id": "mh30KL1jpZr5",
      "metadata": {
        "id": "mh30KL1jpZr5"
      },
      "outputs": [],
      "source": [
        "class MLPRegressor:\n",
        "    \"\"\"\n",
        "    Многослойный перцептрон (MLP) для задачи регрессии, использующий алгоритм\n",
        "    обратного распространения ошибки\n",
        "    \"\"\"\n",
        "\n",
        "    def __init__(self, hidden_layer_sizes=(100,), learning_rate=0.01, n_iter=100):\n",
        "        \"\"\"\n",
        "        Конструктор класса\n",
        "\n",
        "        Параметры:\n",
        "            hidden_layer_sizes (tuple): Кортеж, определяющий архитектуру\n",
        "        скрытых слоев. Например (100, 10) - два скрытых слоя, размером 100 и 10\n",
        "        нейронов, соответственно\n",
        "            learning_rate (float): Скорость обучения\n",
        "            n_iter (int): Количество итераций градиентного спуска\n",
        "        \"\"\"\n",
        "        self.hidden_layer_sizes = hidden_layer_sizes\n",
        "        self.learning_rate = learning_rate\n",
        "        self.n_iter = n_iter\n",
        "        self.EPS = 1e-5\n",
        "\n",
        "        self.layer_sizes = None\n",
        "        self.weight = None\n",
        "        self.bias = None\n",
        "        self.activ = None\n",
        "\n",
        "    # сигмоидальная функция активации\n",
        "    def _activation_function(self, x):\n",
        "        x = np.clip(x, -500, 500)  # ограничение диапазона\n",
        "        return 1 / (1 + np.exp(-x))\n",
        "    \n",
        "    def _initialize_params(self, n_features, count_outputs):\n",
        "        \"\"\"\n",
        "        Инициализация весов и смещений сети для всех слоёв\n",
        "\n",
        "        Параметры:\n",
        "            n_features (int): Количество признаков в данных\n",
        "            count_outputs (int): Количество выходов модели (для регрессии 1)\n",
        "        \"\"\"\n",
        "        \n",
        "        self.layer_sizes = [n_features] + list(self.hidden_layer_sizes) + [count_outputs]\n",
        "\n",
        "        self.weight = list()\n",
        "        self.bias = list()\n",
        "        self.activ = list()\n",
        "\n",
        "        # инициализируются веса и смещения\n",
        "        for i in range(len(self.layer_sizes) - 1):\n",
        "            weight_matrix = np.random.randn(self.layer_sizes[i+1], self.layer_sizes[i]) * 0.01\n",
        "            bias_vector = np.zeros((self.layer_sizes[i+1], 1))\n",
        "            self.weight.append(weight_matrix)\n",
        "            self.bias.append(bias_vector)\n",
        "\n",
        "        # формирование \"пустых\" активаций\n",
        "        for size in self.layer_sizes:\n",
        "            self.activ.append(np.zeros((size, 1)))\n",
        "\n",
        "\n",
        "    def _update_params(self):\n",
        "        \"\"\"\n",
        "        Обновление параметров модели градиентным спуском\n",
        "        \"\"\"\n",
        "        for i in range(len(self.weight)):\n",
        "            self.weight[i] -= self.learning_rate * self.dL_dW[i]\n",
        "            self.bias[i] -= self.learning_rate * self.dL_db[i]\n",
        "\n",
        "    \n",
        "    def _calc_MSE(self, y):\n",
        "        \"\"\"\n",
        "        Вычисление средней квадратичной ошибки (MSE)\n",
        "\n",
        "        Параметры:\n",
        "            y (np.ndarray): Вектор таргета длины n_samples\n",
        "\n",
        "        Возвращает:\n",
        "            float: Значение MSE\n",
        "        \"\"\"\n",
        "        mse = np.mean((self.activ[-1].T - y) ** 2)\n",
        "        return mse\n",
        "\n",
        "    def _calc_gradients(self, y):\n",
        "        \"\"\"\n",
        "        Вычисление градиентов весов и смещений для каждого слоя\n",
        "\n",
        "        Параметры:\n",
        "            y (np.ndarray): Вектор таргета длины n_samples\n",
        "        \"\"\"\n",
        "        m = y.shape[0]\n",
        "        y = y.T\n",
        "\n",
        "        # градиент для выхода (тк регрессия без сигмоиды)\n",
        "        dZ = 2 * (self.activ[-1] - y)\n",
        "\n",
        "        self.dL_dW = list()\n",
        "        self.dL_db = list()\n",
        "\n",
        "        for i in reversed(range(len(self.layer_sizes) - 1)):\n",
        "            dW = (dZ @ self.activ[i].T) / m\n",
        "            db = np.sum(dZ, axis=1, keepdims=True) / m\n",
        "\n",
        "            self.dL_dW.insert(0, dW)\n",
        "            self.dL_db.insert(0, db)\n",
        "\n",
        "            # для скрытых слоёв применяется сигмоида\n",
        "            if i > 0:\n",
        "                dZ = (self.weight[i].T @ dZ) * self.activ[i] * (1 - self.activ[i])\n",
        "        \n",
        "\n",
        "    def forward(self, X):\n",
        "        \"\"\"\n",
        "        Реализация forward pass\n",
        "\n",
        "        Параметры:\n",
        "            X (np.ndarray): Матрица признаков размера (n_samples, n_features)\n",
        "\n",
        "        Возвращает:\n",
        "            np.ndarray: Предсказания модели\n",
        "        \"\"\"\n",
        "        self.activ[0] = X.T\n",
        "\n",
        "        for i in range(1, len(self.layer_sizes)):\n",
        "            xi = self.weight[i-1] @ self.activ[i-1] + self.bias[i-1]\n",
        "            if i == (len(self.layer_sizes) - 1):  # последний слой - линейный\n",
        "                self.activ[i] = xi\n",
        "            else:\n",
        "                self.activ[i] = self._activation_function(xi)\n",
        "\n",
        "        return self.activ[-1].T\n",
        "\n",
        "    def backward(self, X, y):\n",
        "        \"\"\"\n",
        "        Реализация backward pass (обратное распространение ошибки)\n",
        "\n",
        "        Возвращает:\n",
        "            X (np.ndarray): Матрица признаков размера (n_samples, n_features)\n",
        "            y (np.ndarray): Вектор таргета длины n_samples\n",
        "        \"\"\"\n",
        "        self._calc_gradients(y)\n",
        "        self._update_params()        \n",
        "        return X, y\n",
        "\n",
        "    def fit(self, X, y):\n",
        "        \"\"\"\n",
        "        Обучение модели\n",
        "\n",
        "        Параметры:\n",
        "            X (np.ndarray): Матрица признаков размера (n_samples, n_features)\n",
        "            y (np.ndarray): Вектор таргета длины n_samples\n",
        "        \"\"\"\n",
        "        n_samples, n_features = X.shape\n",
        "        if y.ndim == 1:\n",
        "            y = y.reshape(-1, 1)\n",
        "        count_outputs = y.shape[1]\n",
        "\n",
        "        self._initialize_params(n_features, count_outputs)\n",
        "\n",
        "        for _ in range(self.n_iter):\n",
        "            self.forward(X)\n",
        "\n",
        "            mse = self._calc_MSE(y)\n",
        "            if mse < self.EPS:\n",
        "                break\n",
        "\n",
        "            self.backward(X, y)\n",
        "\n",
        "    def predict(self, X):\n",
        "        \"\"\"\n",
        "        Получение предсказаний обученной модели\n",
        "\n",
        "        Параметры:\n",
        "            X (np.ndarray): Матрица признаков\n",
        "\n",
        "        Возвращает:\n",
        "            np.ndarray: Предсказание для каждого элемента из X\n",
        "        \"\"\"\n",
        "        return self.forward(X)\n"
      ]
    },
    {
      "cell_type": "code",
      "execution_count": 22,
      "id": "7914b3ca",
      "metadata": {},
      "outputs": [],
      "source": [
        "from sklearn.datasets import make_regression\n",
        "from sklearn.model_selection import train_test_split\n",
        "from sklearn.metrics import r2_score\n",
        "import matplotlib.pyplot as plt"
      ]
    },
    {
      "cell_type": "code",
      "execution_count": null,
      "id": "70213f6c",
      "metadata": {},
      "outputs": [],
      "source": [
        "# генерируются синтетические данные\n",
        "X, y = make_regression(n_samples=2000, n_features=10, noise=15, random_state=42)\n",
        "\n",
        "X_train, X_test, y_train, y_test = train_test_split(X, y, test_size=0.3, random_state=42)"
      ]
    },
    {
      "cell_type": "code",
      "execution_count": null,
      "id": "746571e0",
      "metadata": {},
      "outputs": [],
      "source": [
        "reg = MLPRegressor(hidden_layer_sizes=(100, 100), learning_rate=0.01, n_iter=1000)\n",
        "reg.fit(X_train, y_train)"
      ]
    },
    {
      "cell_type": "code",
      "execution_count": 39,
      "id": "df1d3917",
      "metadata": {},
      "outputs": [],
      "source": [
        "y_pred = reg.predict(X_test)"
      ]
    },
    {
      "cell_type": "code",
      "execution_count": 40,
      "id": "2214c558",
      "metadata": {},
      "outputs": [],
      "source": [
        "score = r2_score(y_test, y_pred)"
      ]
    },
    {
      "cell_type": "code",
      "execution_count": 41,
      "id": "77620944",
      "metadata": {},
      "outputs": [
        {
          "data": {
            "image/png": "[encoded data removed]",
            "text/plain": [
              "<Figure size 640x480 with 1 Axes>"
            ]
          },
          "metadata": {},
          "output_type": "display_data"
        }
      ],
      "source": [
        "plt.title(f'R2: {str(score)[:5]}')\n",
        "plt.hist(y_pred.reshape(1, -1)[0], bins=100, label='PREDICTION')\n",
        "plt.hist(y_test.reshape(1, -1)[0], bins=100, label='GT')\n",
        "plt.legend()\n",
        "plt.grid();"
      ]
    }
  ],
  "metadata": {
    "colab": {
      "provenance": []
    },
    "kernelspec": {
      "display_name": "Python 3",
      "language": "python",
      "name": "python3"
    },
    "language_info": {
      "codemirror_mode": {
        "name": "ipython",
        "version": 3
      },
      "file_extension": ".py",
      "mimetype": "text/x-python",
      "name": "python",
      "nbconvert_exporter": "python",
      "pygments_lexer": "ipython3",
      "version": "3.9.13"
    }
  },
  "nbformat": 4,
  "nbformat_minor": 5
}
